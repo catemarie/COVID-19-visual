{
 "cells": [
  {
   "cell_type": "code",
   "execution_count": 2,
   "metadata": {},
   "outputs": [],
   "source": [
    "import csv\n",
    "import urllib\n",
    "import io\n",
    "import numpy as np \n",
    "from scipy.optimize import curve_fit \n",
    "from matplotlib import pyplot as plt \n",
    "import datetime"
   ]
  },
  {
   "cell_type": "code",
   "execution_count": 3,
   "metadata": {},
   "outputs": [],
   "source": [
    "url = 'https://raw.githubusercontent.com/CSSEGISandData/COVID-19/master/csse_covid_19_data/csse_covid_19_time_series/time_series_19-covid-Confirmed.csv'\n",
    "response = urllib.request.urlopen(url)\n",
    "reader = csv.DictReader(io.TextIOWrapper(response))"
   ]
  },
  {
   "cell_type": "code",
   "execution_count": 4,
   "metadata": {},
   "outputs": [],
   "source": [
    "data = {}\n",
    "for row in reader:\n",
    "    temp = []\n",
    "    for entry in row:\n",
    "        if \"/20\" in entry and row[entry] is not \"\":\n",
    "            temp.append(((datetime.datetime.strptime(entry, '%m/%d/%y')), int(row[entry])))\n",
    "    if row[\"Province/State\"] != \"\":\n",
    "        data[row[\"Province/State\"]] = temp\n",
    "    else:\n",
    "        data[row[\"Country/Region\"]] = temp"
   ]
  },
  {
   "cell_type": "code",
   "execution_count": 16,
   "metadata": {},
   "outputs": [
    {
     "name": "stdout",
     "output_type": "stream",
     "text": [
      "[ 2.99888990e-05 -3.21223101e-03  1.20199557e-01 -1.84805970e+00\n",
      "  1.03020193e+01 -1.13372854e+01]\n"
     ]
    },
    {
     "data": {
      "text/plain": [
       "[<matplotlib.lines.Line2D at 0x120d61f50>]"
      ]
     },
     "execution_count": 16,
     "metadata": {},
     "output_type": "execute_result"
    },
    {
     "data": {
      "image/png": "[encoded data removed]",
      "text/plain": [
       "<Figure size 432x288 with 1 Axes>"
      ]
     },
     "metadata": {
      "needs_background": "light"
     },
     "output_type": "display_data"
    }
   ],
   "source": [
    "x = [x[0] for x in data[\"California\"]]\n",
    "y = [x[1] for x in data[\"California\"]]\n",
    "\n",
    "idx = list(range(0, len(x)))\n",
    "fit = np.polyfit(idx, y, 5)\n",
    "print(fit)\n",
    "\n",
    "f = np.polyval(fit, idx)\n",
    "plt.plot(idx, y, \"o\")\n",
    "plt.plot(idx, f)"
   ]
  },
  {
   "cell_type": "code",
   "execution_count": null,
   "metadata": {},
   "outputs": [],
   "source": []
  },
  {
   "cell_type": "code",
   "execution_count": null,
   "metadata": {},
   "outputs": [],
   "source": []
  },
  {
   "cell_type": "code",
   "execution_count": null,
   "metadata": {},
   "outputs": [],
   "source": []
  }
 ],
 "metadata": {
  "kernelspec": {
   "display_name": "Python 3",
   "language": "python",
   "name": "python3"
  },
  "language_info": {
   "codemirror_mode": {
    "name": "ipython",
    "version": 3
   },
   "file_extension": ".py",
   "mimetype": "text/x-python",
   "name": "python",
   "nbconvert_exporter": "python",
   "pygments_lexer": "ipython3",
   "version": "3.7.4"
  }
 },
 "nbformat": 4,
 "nbformat_minor": 4
}
